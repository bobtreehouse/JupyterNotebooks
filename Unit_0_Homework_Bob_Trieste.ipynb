{
 "cells": [
  {
   "cell_type": "markdown",
   "metadata": {},
   "source": [
    "## Homework from Week 1 - Bob Trieste \n",
    "```\n",
    "bobtrieste@gmail.com | 917-806-6333\n",
    "```\n",
    "- <a href='#homework_Unit_0_Bob_T'>Homework Bob T Unit 0 exercises</a>\n",
    "- <a href='#homework_Unit_1_Bob_T'>Homework Bob T Unit 1 ex. from Class 1</a> \n",
    "- <a href='#homework_Unit_2_Bob_T'>Homework Bob T Unit 2 ex. from Class 1</a> \n",
    "- <a href='#Addendum_List_Windows_Power_Shell_Commands'>Extra - List of Windows Power Shell Commends</a> "
   ]
  },
  {
   "cell_type": "markdown",
   "metadata": {},
   "source": [
    "\n",
    "\n"
   ]
  },
  {
   "cell_type": "markdown",
   "metadata": {},
   "source": [
    " <a id='homework_Unit_0_Bob_T'></a>\n",
    "\n",
    "### Homework_Bob_Trieste\n",
    "\n",
    "**Unit_0_Exercises**"
   ]
  },
  {
   "cell_type": "markdown",
   "metadata": {},
   "source": [
    "**Exercise 1**\n",
    "\n",
    "Write two versions of a function that swaps the first and last element of a list.\n",
    "```\n",
    "a=[1,2,3,4,5]\n",
    "swap_nonmut(a) ----> [5,2,3,4,1]\n",
    "a ----> [1,2,3,4,5]\n",
    "swap_mut(a) ----> [5,2,3,4,1]\n",
    "a ----> [5,2,3,4,1]\n",
    "```\n",
    "\n"
   ]
  },
  {
   "cell_type": "code",
   "execution_count": 2,
   "metadata": {},
   "outputs": [
    {
     "data": {
      "text/plain": [
       "[5, 2, 3, 4, 1]"
      ]
     },
     "execution_count": 2,
     "metadata": {},
     "output_type": "execute_result"
    }
   ],
   "source": [
    "#your code here\n",
    "#Ex1a\n",
    "lis=[1,2,3,4,5]\n",
    "lis[0], lis[-1] = lis[-1], lis[0]\n",
    "lis"
   ]
  },
  {
   "cell_type": "code",
   "execution_count": 3,
   "metadata": {},
   "outputs": [
    {
     "data": {
      "text/plain": [
       "(5, [2, 3, 4], 1)"
      ]
     },
     "execution_count": 3,
     "metadata": {},
     "output_type": "execute_result"
    }
   ],
   "source": [
    "#your code here\n",
    "#Ex1b==>I don't think this is quite right but...\n",
    "([1,2,3,4,5][4]),([1,2,3,4,5][1:4]), ([1,2,3,4,5][0])"
   ]
  },
  {
   "cell_type": "markdown",
   "metadata": {},
   "source": [
    "**Exercise 2**\n",
    "\n",
    "Write a factorial function using recursion.\n",
    "\n",
    "def factorial(x):\n",
    "    ...\n",
    "\n",
    "factorial(4) ----> 24\n",
    "Remember the factorial behaves in the following manner.\n",
    "\n",
    "factorial(x)=(x)⋅(x−1)⋅(x−2)...(2)⋅(1)\n",
    "The termination step should be based on the following:\n",
    "factorial(1)=1\n",
    "The recursion step should be based on:\n",
    "factorial(x)=x⋅factorial(x−1)"
   ]
  },
  {
   "cell_type": "code",
   "execution_count": 4,
   "metadata": {},
   "outputs": [],
   "source": [
    "def fact(x):\n",
    "    return (x)*(x-1)*(x-2)"
   ]
  },
  {
   "cell_type": "code",
   "execution_count": 5,
   "metadata": {},
   "outputs": [],
   "source": [
    "Fact = lambda x: (x)*(x-1)*(x-2)"
   ]
  },
  {
   "cell_type": "code",
   "execution_count": 6,
   "metadata": {},
   "outputs": [
    {
     "name": "stdout",
     "output_type": "stream",
     "text": [
      "24\n",
      "24\n"
     ]
    }
   ],
   "source": [
    "print(fact(4))\n",
    "print(Fact(4))"
   ]
  },
  {
   "cell_type": "markdown",
   "metadata": {},
   "source": [
    "\n",
    "**Exercise 3**\n",
    "\n",
    "Use a while loop to produce a list of all the prime numbers between 2 and 100. Remember a prime number is only divisibe by itself and one.\n"
   ]
  },
  {
   "cell_type": "code",
   "execution_count": 7,
   "metadata": {},
   "outputs": [
    {
     "name": "stdout",
     "output_type": "stream",
     "text": [
      "2\n",
      "3\n",
      "5\n",
      "7\n",
      "11\n",
      "13\n",
      "17\n",
      "19\n",
      "23\n",
      "29\n",
      "31\n",
      "37\n",
      "41\n",
      "43\n",
      "47\n",
      "53\n",
      "59\n",
      "61\n",
      "67\n",
      "71\n",
      "73\n",
      "79\n",
      "83\n",
      "89\n",
      "97\n"
     ]
    }
   ],
   "source": [
    "for num in range(2,101):\n",
    "    for i in range(2,num):\n",
    "        if (num%i==0):\n",
    "            break\n",
    "    else:\n",
    "        print(num)"
   ]
  },
  {
   "cell_type": "markdown",
   "metadata": {},
   "source": [
    "\n",
    "**Exercise 4**\n",
    "\n",
    "Write a function countVowels() to count up the number of vowels contained in a given string. Valid vowels are: 'a', 'e', 'i', 'o', 'u'.\n"
   ]
  },
  {
   "cell_type": "code",
   "execution_count": 88,
   "metadata": {},
   "outputs": [
    {
     "name": "stdout",
     "output_type": "stream",
     "text": [
      " : 9\n",
      "a: 5\n",
      "c: 3\n",
      "d: 2\n",
      "e: 2\n",
      "f: 2\n",
      "h: 1\n",
      "i: 1\n",
      "l: 2\n",
      "n: 1\n",
      "o: 3\n",
      "p: 1\n",
      "r: 2\n",
      "s: 5\n",
      "t: 3\n",
      "v: 1\n",
      "w: 1\n",
      "y: 2\n"
     ]
    }
   ],
   "source": [
    "vowels=['a', 'e', 'i', 'o', 'u']\n",
    "\n",
    "def count_vowels(mystring):\n",
    "    d = {}\n",
    "    for w in mystring: \n",
    "       d[w] = mystring.count(w)\n",
    "    for k in sorted(d):\n",
    "        print (k + ': ' + str(d[k]))\n",
    "\n",
    "mystring='the first class of pda at nycdsa was very cool'\n",
    "count_vowels(mystring)"
   ]
  },
  {
   "cell_type": "markdown",
   "metadata": {},
   "source": [
    "**Exercise 5**\n",
    "\n",
    "Write a function countAlphabet() to count the frequency of each letter in a string. The function should return a dict and be case insensitive.\n",
    "\n"
   ]
  },
  {
   "cell_type": "code",
   "execution_count": 80,
   "metadata": {},
   "outputs": [
    {
     "name": "stdout",
     "output_type": "stream",
     "text": [
      " : 9\n",
      "a: 5\n",
      "c: 3\n",
      "d: 2\n",
      "e: 2\n",
      "f: 2\n",
      "h: 1\n",
      "i: 1\n",
      "l: 2\n",
      "n: 1\n",
      "o: 3\n",
      "p: 1\n",
      "r: 2\n",
      "s: 5\n",
      "t: 3\n",
      "v: 1\n",
      "w: 1\n",
      "y: 2\n"
     ]
    }
   ],
   "source": [
    "def count_dict(mystring):\n",
    "    d = {}\n",
    "# count occurances of character\n",
    "    for w in mystring: \n",
    "        d[w] = mystring.count(w)\n",
    "# print the result\n",
    "    for k in sorted(d):\n",
    "        print (k + ': ' + str(d[k]))\n",
    "\n",
    "mystring='the first class of pda at nycdsa was very cool'\n",
    "count_dict(mystring)"
   ]
  },
  {
   "cell_type": "markdown",
   "metadata": {},
   "source": [
    "\n",
    "**Exercise 6**\n",
    "\n",
    "Write a function superSort() that sorts a list of strings and ints.\n"
   ]
  },
  {
   "cell_type": "code",
   "execution_count": 43,
   "metadata": {},
   "outputs": [
    {
     "name": "stdout",
     "output_type": "stream",
     "text": [
      "[2.0, True, [2, 3, 4, [3, [3, 4]], 5], 'string&ints', 1]\n"
     ]
    }
   ],
   "source": [
    "s=[2.0, True, [2, 3, 4, [3, [3, 4]], 5], \"string&ints\", 1]\n",
    "def s_item(item):\n",
    "    return s[type(item)], item\n",
    "print(s)"
   ]
  },
  {
   "cell_type": "markdown",
   "metadata": {},
   "source": [
    "\n",
    "Exercise 7\n",
    "\n",
    "Find the sum of all the multiples of 3 or 5 below 1000.\n"
   ]
  },
  {
   "cell_type": "code",
   "execution_count": 45,
   "metadata": {},
   "outputs": [
    {
     "name": "stdout",
     "output_type": "stream",
     "text": [
      "233168\n"
     ]
    }
   ],
   "source": [
    "## i had to google some help with these !!\n",
    "x = 3\n",
    "y = 5\n",
    "x_list = []\n",
    "y_list = []\n",
    "\n",
    "while x < 1000:\n",
    "    x_list.append(x)\n",
    "    x += 3\n",
    "\n",
    "while y < 1000:\n",
    "    y_list.append(y)\n",
    "    y += 5\n",
    "\n",
    "numsum = sum(set(x_list + y_list))\n",
    "print(numsum)"
   ]
  },
  {
   "cell_type": "markdown",
   "metadata": {},
   "source": [
    "\n",
    "Exercise 8\n",
    "\n",
    "Find the largest palendromic integer that is the product of two positive integers less than 1000.\n"
   ]
  },
  {
   "cell_type": "code",
   "execution_count": 74,
   "metadata": {},
   "outputs": [],
   "source": [
    "## struggled here\n",
    "def isPalendrome(n):\n",
    "    while (number != 0): \n",
    "                reverse = reverse * 10 + number % 10\n",
    "                number =number // 10\n",
    "      "
   ]
  },
  {
   "cell_type": "code",
   "execution_count": 76,
   "metadata": {},
   "outputs": [
    {
     "name": "stdout",
     "output_type": "stream",
     "text": [
      "81188118\n"
     ]
    }
   ],
   "source": [
    "##had t osearch around web as my mind melted ! \n",
    "def larrgestPalindrome(n): \n",
    "  \n",
    "    upper_limit = 0\n",
    " \n",
    "    for i in range(1, n+1): \n",
    "      \n",
    "        upper_limit =upper_limit * 100\n",
    "        upper_limit =upper_limit + 90\n",
    " \n",
    "    lower_limit = 1 + upper_limit//10\n",
    "   \n",
    "    max_product = 0 # Initialize result \n",
    "    for i in range(upper_limit,lower_limit-1, -1): \n",
    "      \n",
    "        for j in range(i,lower_limit-1,-1): \n",
    "          \n",
    "             \n",
    "            product = i * j \n",
    "            if (product < max_product): \n",
    "                break\n",
    "            number = product \n",
    "            reverse = 0\n",
    "   \n",
    "            while (number != 0): \n",
    "              \n",
    "                reverse = reverse * 10 + number % 10\n",
    "                number =number // 10\n",
    "\n",
    "            if (product == reverse and product > max_product): \n",
    "                max_product = product \n",
    "          \n",
    "      \n",
    "    return max_product \n",
    "  \n",
    "  \n",
    "n = 2\n",
    "print(larrgestPalindrome(n)) "
   ]
  },
  {
   "cell_type": "markdown",
   "metadata": {},
   "source": [
    "Exercise 9\n",
    "\n",
    "Filter the following lists so that only lists with unique values pass through.\n",
    "\n",
    "LL=[[1,2,3,2],[4,3,2],[7,6,7],[0,2,4]]"
   ]
  },
  {
   "cell_type": "code",
   "execution_count": 59,
   "metadata": {},
   "outputs": [
    {
     "name": "stdout",
     "output_type": "stream",
     "text": [
      "[[1, 2, 3, 2], [4, 3, 2], [7, 6, 7], [0, 2, 4]]\n"
     ]
    }
   ],
   "source": [
    "LL=[[1,2,3,2],[4,3,2],[7,6,7],[0,2,4]]\n",
    "output = []\n",
    "for x in LL:\n",
    "    if x not in output:\n",
    "        output.append(x)\n",
    "print(output)"
   ]
  },
  {
   "cell_type": "markdown",
   "metadata": {},
   "source": [
    "<a id='homework_Unit_1_Bob_T'></a>\n",
    "\n",
    "### Homework_Unit_1_Bob_T\n",
    "\n",
    "**Unit_1_Exercises from Class 1**\n"
   ]
  },
  {
   "cell_type": "code",
   "execution_count": 13,
   "metadata": {},
   "outputs": [],
   "source": [
    "#this was assigned in Class 1 from Unit_1"
   ]
  },
  {
   "cell_type": "markdown",
   "metadata": {},
   "source": [
    "**Problem 5**\n",
    "\n",
    "Write a function called **`palendrome`** that takes a string as an argument.  The function should return the palendrome version of the string. Write it using lambda syntax.\n",
    "\n",
    "```\n",
    "palendrome('toy') ---> 'toyot'\n",
    "```\n",
    "\n",
    "Write the function `palendrome2` with an optional second argument that determines the index location in the string the palendrome puts at the center.  Write it using def.\n",
    "\n",
    "```\n",
    "palendrome2('bigkid') ---> 'bigkidikgib'\n",
    "palendrome2('bigkid',2) ---> 'bigib'\n",
    "palendrome2('bigkid',3) ---> 'bigkgib'\n",
    "```\n"
   ]
  },
  {
   "cell_type": "code",
   "execution_count": 14,
   "metadata": {},
   "outputs": [
    {
     "data": {
      "text/plain": [
       "'toyot'"
      ]
     },
     "execution_count": 14,
     "metadata": {},
     "output_type": "execute_result"
    }
   ],
   "source": [
    "palendrome = lambda s: s[:-1]+s[::-1]\n",
    "palendrome ('toy')"
   ]
  },
  {
   "cell_type": "code",
   "execution_count": 15,
   "metadata": {},
   "outputs": [
    {
     "data": {
      "text/plain": [
       "'bigkidikgib'"
      ]
     },
     "execution_count": 15,
     "metadata": {},
     "output_type": "execute_result"
    }
   ],
   "source": [
    "def palendrome2(s,m=None):\n",
    "    if m != None:\n",
    "        return s[:m]+s[m::-1]\n",
    "    else:\n",
    "        return s[:-1]+s[::-1]\n",
    "\n",
    "palendrome2('bigkid')\n"
   ]
  },
  {
   "cell_type": "code",
   "execution_count": 16,
   "metadata": {},
   "outputs": [
    {
     "data": {
      "text/plain": [
       "'bigib'"
      ]
     },
     "execution_count": 16,
     "metadata": {},
     "output_type": "execute_result"
    }
   ],
   "source": [
    "def palendrome2(s,m=None):\n",
    "    if m != None:\n",
    "        return s[:m]+s[m::-1]\n",
    "    else:\n",
    "        return s[:-1]+s[::-1]\n",
    "\n",
    "palendrome2('bigkid', 2)\n"
   ]
  },
  {
   "cell_type": "code",
   "execution_count": 17,
   "metadata": {},
   "outputs": [
    {
     "data": {
      "text/plain": [
       "'bigkgib'"
      ]
     },
     "execution_count": 17,
     "metadata": {},
     "output_type": "execute_result"
    }
   ],
   "source": [
    "def palendrome2(s,m=None):\n",
    "    if m != None:\n",
    "        return s[:m]+s[m::-1]\n",
    "    else:\n",
    "        return s[:-1]+s[::-1]\n",
    "palendrome2('bigkid',3)"
   ]
  },
  {
   "cell_type": "code",
   "execution_count": null,
   "metadata": {},
   "outputs": [],
   "source": []
  },
  {
   "cell_type": "markdown",
   "metadata": {},
   "source": [
    "<a id='homework_Unit_2_Bob_T'></a>\n",
    "\n",
    "### Homework_Unit_2_Bob_T\n",
    "\n",
    "**Unit_2_Exercises from Class 1**"
   ]
  },
  {
   "cell_type": "markdown",
   "metadata": {},
   "source": [
    "**Exercise 3**\n",
    "\n",
    "Consider the following dictionary:\n",
    "```\n",
    "groceries={'nuts':['peanuts','almonds','cashews'],\n",
    "'water_bottles':10,\n",
    "'superfoods':['goji','maca']}\n",
    "            \n",
    "```\n",
    "\n",
    "- construct the dictionary `groceries`\n",
    "- put the list of nuts in alphabetical order\n",
    "- add 6 bottles of water\n",
    "- add acai to the list of superfoods\n",
    "- add a list of 'veggies' containing spinach, kale and collards"
   ]
  },
  {
   "cell_type": "code",
   "execution_count": 18,
   "metadata": {},
   "outputs": [
    {
     "data": {
      "text/plain": [
       "{'nuts': ['peanuts', 'almonds', 'cashews'],\n",
       " 'water_bottles': 10,\n",
       " 'superfoods': ['goji', 'maca']}"
      ]
     },
     "execution_count": 18,
     "metadata": {},
     "output_type": "execute_result"
    }
   ],
   "source": [
    "groceries={'nuts':['peanuts','almonds','cashews'],\n",
    "'water_bottles':10,\n",
    "'superfoods':['goji','maca']}\n",
    "groceries"
   ]
  },
  {
   "cell_type": "code",
   "execution_count": 19,
   "metadata": {},
   "outputs": [
    {
     "data": {
      "text/plain": [
       "True"
      ]
     },
     "execution_count": 19,
     "metadata": {},
     "output_type": "execute_result"
    }
   ],
   "source": [
    "'nuts' in groceries"
   ]
  },
  {
   "cell_type": "code",
   "execution_count": 20,
   "metadata": {},
   "outputs": [
    {
     "data": {
      "text/plain": [
       "True"
      ]
     },
     "execution_count": 20,
     "metadata": {},
     "output_type": "execute_result"
    }
   ],
   "source": [
    "'water_bottles' in groceries"
   ]
  },
  {
   "cell_type": "code",
   "execution_count": 21,
   "metadata": {},
   "outputs": [
    {
     "data": {
      "text/plain": [
       "['almonds', 'cashews', 'peanuts']"
      ]
     },
     "execution_count": 21,
     "metadata": {},
     "output_type": "execute_result"
    }
   ],
   "source": [
    "list_nuts = ['peanuts','almonds','cashews']\n",
    "sorted(list_nuts)\n"
   ]
  },
  {
   "cell_type": "code",
   "execution_count": 22,
   "metadata": {},
   "outputs": [
    {
     "data": {
      "text/plain": [
       "16"
      ]
     },
     "execution_count": 22,
     "metadata": {},
     "output_type": "execute_result"
    }
   ],
   "source": [
    "water_bottles = 10+6\n",
    "water_bottles"
   ]
  },
  {
   "cell_type": "code",
   "execution_count": 23,
   "metadata": {},
   "outputs": [
    {
     "data": {
      "text/plain": [
       "3"
      ]
     },
     "execution_count": 23,
     "metadata": {},
     "output_type": "execute_result"
    }
   ],
   "source": [
    "len(groceries)"
   ]
  },
  {
   "cell_type": "code",
   "execution_count": 24,
   "metadata": {},
   "outputs": [
    {
     "data": {
      "text/plain": [
       "range"
      ]
     },
     "execution_count": 24,
     "metadata": {},
     "output_type": "execute_result"
    }
   ],
   "source": [
    "range"
   ]
  },
  {
   "cell_type": "code",
   "execution_count": 25,
   "metadata": {},
   "outputs": [],
   "source": [
    "groceries['superfoods'].append('acai')"
   ]
  },
  {
   "cell_type": "code",
   "execution_count": 26,
   "metadata": {},
   "outputs": [
    {
     "data": {
      "text/plain": [
       "{'nuts': ['peanuts', 'almonds', 'cashews'],\n",
       " 'water_bottles': 10,\n",
       " 'superfoods': ['goji', 'maca', 'acai']}"
      ]
     },
     "execution_count": 26,
     "metadata": {},
     "output_type": "execute_result"
    }
   ],
   "source": [
    "groceries"
   ]
  },
  {
   "cell_type": "code",
   "execution_count": 27,
   "metadata": {},
   "outputs": [
    {
     "data": {
      "text/plain": [
       "{'veggies': ['spinach', 'kale', 'collards']}"
      ]
     },
     "execution_count": 27,
     "metadata": {},
     "output_type": "execute_result"
    }
   ],
   "source": [
    "groceries2={'veggies':['spinach', 'kale', 'collards']}\n",
    "groceries2\n"
   ]
  },
  {
   "cell_type": "code",
   "execution_count": 28,
   "metadata": {},
   "outputs": [],
   "source": [
    "groceries.update( groceries2 )"
   ]
  },
  {
   "cell_type": "code",
   "execution_count": 29,
   "metadata": {},
   "outputs": [
    {
     "data": {
      "text/plain": [
       "{'nuts': ['peanuts', 'almonds', 'cashews'],\n",
       " 'water_bottles': 10,\n",
       " 'superfoods': ['goji', 'maca', 'acai'],\n",
       " 'veggies': ['spinach', 'kale', 'collards']}"
      ]
     },
     "execution_count": 29,
     "metadata": {},
     "output_type": "execute_result"
    }
   ],
   "source": [
    "groceries\n",
    "#this defaulted the water_bottles back to inital # of 10. \n",
    "#don't think I did this the simplest way"
   ]
  },
  {
   "cell_type": "code",
   "execution_count": null,
   "metadata": {},
   "outputs": [],
   "source": []
  },
  {
   "cell_type": "markdown",
   "metadata": {},
   "source": [
    "<a id='Addendum_List_Windows_Power_Shell_Commands'></a>\n",
    "\n",
    "### List of Windows PowerShell Commands\n",
    "\n",
    "**Windows Power Shell Commands**\n",
    "\n",
    "\n",
    "```**From the Zed Shaw book, 'Learn Python 3 The Hard Way'**```\n",
    "\n",
    "\n",
    "**Windows**\n",
    "On Windows we will use **PowerShell**. People used to work with a program called ```cmd.exe``` but it's \n",
    "not nearly as usable as PowerShell. (PowerShell calls them \"commandlets\" and can do more than ```cmd.exe```).\n",
    "\n",
    "If you have Windows 7 or later do this: \n",
    " - Click Start.\n",
    " - In \"Search\" type \"powershell\".\n",
    " - Hit Enter\n",
    " \n",
    "**Some common commands:**\n",
    "\n",
    " - **pwd**  print working directory\n",
    " - **hostname** my computer's network name\n",
    " - **mkdir** make directory\n",
    " - **cd** change directory\n",
    " - **ls** list directory\n",
    " - **rmdir** remove directory\n",
    " - **pushd** push directory\n",
    " - **popd** pop directory\n",
    " - **cp** copy a file or directory\n",
    " - **robocopy** robust copy\n",
    " - **mv** move a file or directory\n",
    " - **more** page through a file\n",
    " - **type** print the whole file\n",
    " - **forfiles** run a command on lots of files\n",
    " - **dir -r** find files\n",
    " - **select-string** find things inside files\n",
    " - **help** read a manual page\n",
    " - **helpctr** find what manual page is appropriate\n",
    " - **echo** print some arguments\n",
    " - **set** export/set a new environment variable\n",
    " - **exit** exit the shell\n",
    " - **runas** DANGER! become super user root DANGER!\n",
    " \n",
    "-end\n",
    " \n",
    " \n",
    " \n",
    "\n",
    "\n",
    "\n",
    "\n",
    "\n"
   ]
  },
  {
   "cell_type": "code",
   "execution_count": null,
   "metadata": {},
   "outputs": [],
   "source": []
  }
 ],
 "metadata": {
  "kernelspec": {
   "display_name": "Python 3",
   "language": "python",
   "name": "python3"
  },
  "language_info": {
   "codemirror_mode": {
    "name": "ipython",
    "version": 3
   },
   "file_extension": ".py",
   "mimetype": "text/x-python",
   "name": "python",
   "nbconvert_exporter": "python",
   "pygments_lexer": "ipython3",
   "version": "3.7.0"
  }
 },
 "nbformat": 4,
 "nbformat_minor": 2
}
