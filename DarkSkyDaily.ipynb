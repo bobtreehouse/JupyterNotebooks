{
 "cells": [
  {
   "cell_type": "code",
   "execution_count": 1,
   "metadata": {},
   "outputs": [],
   "source": [
    "import bs4 as bs\n",
    "import urllib.request "
   ]
  },
  {
   "cell_type": "code",
   "execution_count": 2,
   "metadata": {},
   "outputs": [],
   "source": [
    "sauce = urllib.request.urlopen('https://darksky.net/forecast/40.7127,-74.0059/us12/en').read()\n",
    "soup = bs.BeautifulSoup(sauce, 'lxml')"
   ]
  },
  {
   "cell_type": "code",
   "execution_count": 3,
   "metadata": {},
   "outputs": [],
   "source": [
    "nav = soup.nav  \n",
    "body = soup.body\n",
    "text = soup.text\n",
    "table= soup.table\n",
    "div = soup.div"
   ]
  },
  {
   "cell_type": "code",
   "execution_count": 4,
   "metadata": {},
   "outputs": [
    {
     "name": "stdout",
     "output_type": "stream",
     "text": [
      "\n",
      "          Mixed precipitation throughout the week, with high temperatures peaking at 57°F on Sunday.\n",
      "        \n",
      "Mostly cloudy until afternoon.\n",
      "Mostly cloudy throughout the day.\n",
      "Rain overnight.\n",
      "Rain in the morning and windy starting in the evening.\n",
      "Windy until evening and mostly cloudy until afternoon.\n",
      "Mostly cloudy until afternoon.\n",
      "Mostly cloudy throughout the day.\n",
      "Snow (< 1 in.) in the morning.\n",
      "\n",
      "34˚\n",
      "\n",
      "49˚\n",
      "\n",
      "\n",
      "32˚\n",
      "\n",
      "43˚\n",
      "\n",
      "\n",
      "31˚\n",
      "\n",
      "41˚\n",
      "\n",
      "\n",
      "39˚\n",
      "\n",
      "57˚\n",
      "\n",
      "\n",
      "33˚\n",
      "\n",
      "44˚\n",
      "\n",
      "\n",
      "27˚\n",
      "\n",
      "42˚\n",
      "\n",
      "\n",
      "38˚\n",
      "\n",
      "51˚\n",
      "\n",
      "\n",
      "32˚\n",
      "\n",
      "39˚\n",
      "\n"
     ]
    }
   ],
   "source": [
    "for paragraph in body.find_all('div', class_=\"summary\"):\n",
    "   print(paragraph.text)\n",
    "for paragraph in body.find_all('span', class_='tempRange'):\n",
    "   print(paragraph.text) "
   ]
  },
  {
   "cell_type": "code",
   "execution_count": 5,
   "metadata": {},
   "outputs": [],
   "source": [
    "filename = \"C:/Users/bobtr/OneDrive/Desktop/Clocks/PythonDailyNews/DarkSkyWeather.txt\"\n",
    "f = open(filename, \"a\") \n",
    "body = soup.body\n",
    "text = soup.text\n",
    "f.write('\\n') \n",
    "f.write(\"\")\n",
    "f.close()"
   ]
  },
  {
   "cell_type": "code",
   "execution_count": null,
   "metadata": {},
   "outputs": [],
   "source": []
  },
  {
   "cell_type": "code",
   "execution_count": null,
   "metadata": {},
   "outputs": [],
   "source": []
  }
 ],
 "metadata": {
  "kernelspec": {
   "display_name": "Python 3",
   "language": "python",
   "name": "python3"
  },
  "language_info": {
   "codemirror_mode": {
    "name": "ipython",
    "version": 3
   },
   "file_extension": ".py",
   "mimetype": "text/x-python",
   "name": "python",
   "nbconvert_exporter": "python",
   "pygments_lexer": "ipython3",
   "version": "3.7.0"
  }
 },
 "nbformat": 4,
 "nbformat_minor": 2
}
